{
 "cells": [
  {
   "cell_type": "code",
   "execution_count": 2,
   "id": "initial_id",
   "metadata": {
    "collapsed": true,
    "ExecuteTime": {
     "end_time": "2024-02-25T07:24:32.269269Z",
     "start_time": "2024-02-25T07:24:32.256757Z"
    }
   },
   "outputs": [
    {
     "name": "stdout",
     "output_type": "stream",
     "text": [
      "[0. 0. 0. 0. 0. 0. 0. 0. 0. 0.]\n"
     ]
    }
   ],
   "source": [
    "import numpy as np\n",
    "\n",
    "# first , create array with 10 zeros\n",
    "ten_zeros = np.zeros(10)\n",
    "print(ten_zeros)"
   ]
  },
  {
   "cell_type": "code",
   "outputs": [
    {
     "name": "stdout",
     "output_type": "stream",
     "text": [
      "[1. 1. 1. 1. 1. 1. 1. 1. 1. 1.]\n"
     ]
    }
   ],
   "source": [
    "# second create table with 10 ones\n",
    "ten_ones = np.ones(10)\n",
    "print(ten_ones)"
   ],
   "metadata": {
    "collapsed": false,
    "ExecuteTime": {
     "end_time": "2024-02-25T07:25:00.766342Z",
     "start_time": "2024-02-25T07:25:00.748336Z"
    }
   },
   "id": "4aee3e74bbf71c1f",
   "execution_count": 4
  },
  {
   "cell_type": "code",
   "outputs": [
    {
     "name": "stdout",
     "output_type": "stream",
     "text": [
      "[5. 5. 5. 5. 5. 5. 5. 5. 5. 5.]\n"
     ]
    }
   ],
   "source": [
    "# third create array with 10 fives\n",
    "ten_ones = np.ones(10)\n",
    "ten_fives = ten_ones * 5\n",
    "print(ten_fives)"
   ],
   "metadata": {
    "collapsed": false,
    "ExecuteTime": {
     "end_time": "2024-02-25T07:26:59.964644Z",
     "start_time": "2024-02-25T07:26:59.950394Z"
    }
   },
   "id": "5c957ea7a1bd1cad",
   "execution_count": 6
  },
  {
   "cell_type": "code",
   "outputs": [
    {
     "name": "stdout",
     "output_type": "stream",
     "text": [
      "[10 11 12 13 14 15 16 17 18 19 20 21 22 23 24 25 26 27 28 29 30 31 32 33\n",
      " 34 35 36 37 38 39 40 41 42 43 44 45 46 47 48 49 50]\n"
     ]
    }
   ],
   "source": [
    "# forth , create array of intengers from 10-to 50\n",
    "array_10_50 = np.arange(10, 51)\n",
    "print(array_10_50)\n"
   ],
   "metadata": {
    "collapsed": false,
    "ExecuteTime": {
     "end_time": "2024-02-25T07:28:44.407151Z",
     "start_time": "2024-02-25T07:28:44.393945Z"
    }
   },
   "id": "7343157e1c047239",
   "execution_count": 10
  },
  {
   "cell_type": "code",
   "outputs": [
    {
     "name": "stdout",
     "output_type": "stream",
     "text": [
      "[10 12 14 16 18 20 22 24 26 28 30 32 34 36 38 40 42 44 46 48 50]\n"
     ]
    }
   ],
   "source": [
    "# fifth, create array with all the even numbers 10-50\n",
    "array_10_50_even = np.arange(10, 51, 2)\n",
    "print(array_10_50_even)"
   ],
   "metadata": {
    "collapsed": false,
    "ExecuteTime": {
     "end_time": "2024-02-25T07:29:44.300237Z",
     "start_time": "2024-02-25T07:29:44.282235Z"
    }
   },
   "id": "acf0a4ceebb56081",
   "execution_count": 12
  },
  {
   "cell_type": "code",
   "outputs": [
    {
     "name": "stdout",
     "output_type": "stream",
     "text": [
      "[[0 1 2]\n",
      " [3 4 5]\n",
      " [6 7 8]]\n",
      "(3, 3)\n"
     ]
    }
   ],
   "source": [
    "# sixth , create a 3X3 matrix with values ranging from 0 to 8.\n",
    "array_three_three = np.array([[0, 1, 2], [3, 4, 5], [6, 7, 8]])\n",
    "print(array_three_three)\n",
    "print(array_three_three.shape)  # confirm that is 3x3 array.\n"
   ],
   "metadata": {
    "collapsed": false,
    "ExecuteTime": {
     "end_time": "2024-02-25T07:38:55.981824Z",
     "start_time": "2024-02-25T07:38:55.962824Z"
    }
   },
   "id": "f75376eabaddb00f",
   "execution_count": 18
  },
  {
   "cell_type": "code",
   "outputs": [
    {
     "name": "stdout",
     "output_type": "stream",
     "text": [
      "[[1. 0. 0.]\n",
      " [0. 1. 0.]\n",
      " [0. 0. 1.]]\n"
     ]
    }
   ],
   "source": [
    "# seventh , create a 3X3 identity matrix\n",
    "identity_array = np.eye(3)  # or np.identity(3)\n",
    "print(identity_array)"
   ],
   "metadata": {
    "collapsed": false,
    "ExecuteTime": {
     "end_time": "2024-02-25T07:40:11.092312Z",
     "start_time": "2024-02-25T07:40:11.074313Z"
    }
   },
   "id": "e9c73787d7a41945",
   "execution_count": 23
  },
  {
   "cell_type": "code",
   "outputs": [
    {
     "name": "stdout",
     "output_type": "stream",
     "text": [
      "0.909160429387082\n"
     ]
    }
   ],
   "source": [
    "# eighth , create a random number from 0-1 \n",
    "random_number = np.random.rand()\n",
    "print(random_number)\n",
    "\n",
    "\n"
   ],
   "metadata": {
    "collapsed": false,
    "ExecuteTime": {
     "end_time": "2024-02-25T07:43:55.243862Z",
     "start_time": "2024-02-25T07:43:55.226280Z"
    }
   },
   "id": "f580eac36b468aa4",
   "execution_count": 44
  },
  {
   "cell_type": "code",
   "outputs": [
    {
     "name": "stdout",
     "output_type": "stream",
     "text": [
      "[[-0.59121569  1.29650437  0.8528566   1.65163751 -0.00887171]\n",
      " [ 0.96926258  1.05148965  0.30321807 -2.43772282  1.08401198]\n",
      " [ 0.26745345 -0.13932251 -0.18471791  0.95095483 -1.30219023]\n",
      " [ 0.73073147 -0.70748765  0.44976874 -0.81308133 -0.73875606]\n",
      " [ 0.97456992  0.87646327  0.38143098  0.38070966  0.59841194]]\n"
     ]
    }
   ],
   "source": [
    "# ninenth , create array with 25 random numbers\n",
    "random_array = np.random.randn(5, 5)\n",
    "print(random_array)\n"
   ],
   "metadata": {
    "collapsed": false,
    "ExecuteTime": {
     "end_time": "2024-02-25T07:45:51.643849Z",
     "start_time": "2024-02-25T07:45:51.626042Z"
    }
   },
   "id": "92c4c8084069c9ea",
   "execution_count": 50
  },
  {
   "cell_type": "code",
   "outputs": [
    {
     "name": "stdout",
     "output_type": "stream",
     "text": [
      "[[0.01 0.02 0.03 0.04 0.05 0.06 0.07 0.08 0.09 0.1 ]\n",
      " [0.11 0.12 0.13 0.14 0.15 0.16 0.17 0.18 0.19 0.2 ]\n",
      " [0.21 0.22 0.23 0.24 0.25 0.26 0.27 0.28 0.29 0.3 ]\n",
      " [0.31 0.32 0.33 0.34 0.35 0.36 0.37 0.38 0.39 0.4 ]\n",
      " [0.41 0.42 0.43 0.44 0.45 0.46 0.47 0.48 0.49 0.5 ]\n",
      " [0.51 0.52 0.53 0.54 0.55 0.56 0.57 0.58 0.59 0.6 ]\n",
      " [0.61 0.62 0.63 0.64 0.65 0.66 0.67 0.68 0.69 0.7 ]\n",
      " [0.71 0.72 0.73 0.74 0.75 0.76 0.77 0.78 0.79 0.8 ]\n",
      " [0.81 0.82 0.83 0.84 0.85 0.86 0.87 0.88 0.89 0.9 ]\n",
      " [0.91 0.92 0.93 0.94 0.95 0.96 0.97 0.98 0.99 1.  ]]\n",
      "(10, 10)\n"
     ]
    }
   ],
   "source": [
    "# tennth , create the following array which is given (udemy page)\n",
    "matrix = np.arange(0.01, 1.01, 0.01)\n",
    "# print(matrix)\n",
    "reshape_array = matrix.reshape(10, 10)\n",
    "print(reshape_array)\n",
    "print(reshape_array.shape)"
   ],
   "metadata": {
    "collapsed": false,
    "ExecuteTime": {
     "end_time": "2024-02-25T07:48:40.130957Z",
     "start_time": "2024-02-25T07:48:40.107441Z"
    }
   },
   "id": "a205e21a91f264ae",
   "execution_count": 55
  },
  {
   "cell_type": "code",
   "outputs": [
    {
     "name": "stdout",
     "output_type": "stream",
     "text": [
      "[0.         0.05263158 0.10526316 0.15789474 0.21052632 0.26315789\n",
      " 0.31578947 0.36842105 0.42105263 0.47368421 0.52631579 0.57894737\n",
      " 0.63157895 0.68421053 0.73684211 0.78947368 0.84210526 0.89473684\n",
      " 0.94736842 1.        ]\n"
     ]
    }
   ],
   "source": [
    "# eleventh , create array of 20 linearly spaced points between 0-1\n",
    "linearly_matrix = np.linspace(0, 1, 20)\n",
    "print(linearly_matrix)"
   ],
   "metadata": {
    "collapsed": false,
    "ExecuteTime": {
     "end_time": "2024-02-25T07:53:52.402524Z",
     "start_time": "2024-02-25T07:53:52.379185Z"
    }
   },
   "id": "28b4d3b051511563",
   "execution_count": 57
  },
  {
   "cell_type": "code",
   "outputs": [
    {
     "name": "stdout",
     "output_type": "stream",
     "text": [
      "[[ 1  2  3  4  5]\n",
      " [ 6  7  8  9 10]\n",
      " [11 12 13 14 15]\n",
      " [16 17 18 19 20]\n",
      " [21 22 23 24 25]]\n",
      "\n",
      "[[12 13 14 15]\n",
      " [17 18 19 20]\n",
      " [22 23 24 25]]\n",
      "\n",
      "20\n",
      "\n",
      "[[16 17 18 19 20]\n",
      " [21 22 23 24 25]]\n",
      "\n",
      "325\n",
      "7.211102550927978\n",
      "\n",
      "[55 60 65 70 75]\n"
     ]
    }
   ],
   "source": [
    "# exercises with indexing and selection\n",
    "# first , you will be given a few matrices and be asked to replicate the resulting matrix outputs.\n",
    "mat = np.arange(1, 26).reshape(5, 5)\n",
    "print(mat)\n",
    "print()\n",
    "indexing_mat = mat[2:, 1:]  # it is asked to print the numbers 12,13,14,15,17,18,19,20,22,23,24,25.\n",
    "print(indexing_mat)\n",
    "print()\n",
    "print(mat[3, 4])  # it is asked to print the 20.\n",
    "print()\n",
    "print(mat[3:, :])  # it is asked to print the numbers 16 , 17,18,19,20,21,22,23,24,25\n",
    "print()\n",
    "# get all the sum in the mat array\n",
    "print(mat.sum())\n",
    "\n",
    "# get the standard deviation of the values in matrix mat\n",
    "print(mat.std())\n",
    "print()\n",
    "\n",
    "# get the sum of all the columns in mat\n",
    "print(mat.sum(axis=0))  # axis=0 is for columns and axis=1 for rows!!!"
   ],
   "metadata": {
    "collapsed": false,
    "ExecuteTime": {
     "end_time": "2024-02-25T08:11:04.248177Z",
     "start_time": "2024-02-25T08:11:04.220177Z"
    }
   },
   "id": "84423edca23376b4",
   "execution_count": 78
  },
  {
   "cell_type": "code",
   "outputs": [],
   "source": [],
   "metadata": {
    "collapsed": false
   },
   "id": "93dc57409e1de031"
  }
 ],
 "metadata": {
  "kernelspec": {
   "display_name": "Python 3",
   "language": "python",
   "name": "python3"
  },
  "language_info": {
   "codemirror_mode": {
    "name": "ipython",
    "version": 2
   },
   "file_extension": ".py",
   "mimetype": "text/x-python",
   "name": "python",
   "nbconvert_exporter": "python",
   "pygments_lexer": "ipython2",
   "version": "2.7.6"
  }
 },
 "nbformat": 4,
 "nbformat_minor": 5
}
