{
 "cells": [
  {
   "cell_type": "code",
   "execution_count": 11,
   "id": "initial_id",
   "metadata": {
    "collapsed": true,
    "ExecuteTime": {
     "end_time": "2024-03-23T09:55:40.329241Z",
     "start_time": "2024-03-23T09:55:39.862166Z"
    }
   },
   "outputs": [
    {
     "data": {
      "text/plain": "    CustomerID First_Name    Last_Name  Phone_Number  \\\n0         1001      Frodo      Baggins  123-545-5421   \n1         1002       Abed        Nadir  123/643/9775   \n2         1003     Walter       /White    7066950392   \n3         1004     Dwight      Schrute  123-543-2345   \n4         1005        Jon         Snow  876|678|3469   \n5         1006        Ron      Swanson  304-762-2467   \n6         1007       Jeff       Winger           NaN   \n7         1008   Sherlock       Holmes  876|678|3469   \n8         1009    Gandalf          NaN           N/a   \n9         1010      Peter       Parker  123-545-5421   \n10        1011    Samwise       Gamgee           NaN   \n11        1012      Harry    ...Potter    7066950392   \n12        1013        Don       Draper  123-543-2345   \n13        1014     Leslie        Knope  876|678|3469   \n14        1015       Toby  Flenderson_  304-762-2467   \n15        1016        Ron      Weasley  123-545-5421   \n16        1017   Michael         Scott  123/643/9775   \n17        1018      Clark         Kent    7066950392   \n18        1019      Creed       Braton           N/a   \n19        1020     Anakin    Skywalker  876|678|3469   \n20        1020     Anakin    Skywalker  876|678|3469   \n\n                                  Address Paying Customer Do_Not_Contact  \\\n0                   123 Shire Lane, Shire             Yes             No   \n1                     93 West Main Street              No            Yes   \n2                      298 Drugs Driveway               N            NaN   \n3   980 Paper Avenue, Pennsylvania, 18503             Yes              Y   \n4                        123 Dragons Road               Y             No   \n5                        768 City Parkway             Yes            Yes   \n6                       1209 South Street              No             No   \n7                           98 Clue Drive               N             No   \n8                        123 Middle Earth             Yes            NaN   \n9              25th Main Street, New York             Yes             No   \n10                  612 Shire Lane, Shire             Yes             No   \n11                   2394 Hogwarts Avenue               Y            NaN   \n12                       2039 Main Street             Yes              N   \n13                       343 City Parkway             Yes             No   \n14                          214 HR Avenue               N             No   \n15                   2395 Hogwarts Avenue              No              N   \n16         121 Paper Avenue, Pennsylvania             Yes             No   \n17                        3498 Super Lane               Y            NaN   \n18                                    N/a             N/a            Yes   \n19            910 Tatooine Road, Tatooine             Yes              N   \n20            910 Tatooine Road, Tatooine             Yes              N   \n\n    Not_Useful_Column  \n0                True  \n1               False  \n2                True  \n3                True  \n4                True  \n5                True  \n6               False  \n7               False  \n8               False  \n9                True  \n10               True  \n11               True  \n12              False  \n13              False  \n14              False  \n15              False  \n16              False  \n17               True  \n18               True  \n19               True  \n20               True  ",
      "text/html": "<div>\n<style scoped>\n    .dataframe tbody tr th:only-of-type {\n        vertical-align: middle;\n    }\n\n    .dataframe tbody tr th {\n        vertical-align: top;\n    }\n\n    .dataframe thead th {\n        text-align: right;\n    }\n</style>\n<table border=\"1\" class=\"dataframe\">\n  <thead>\n    <tr style=\"text-align: right;\">\n      <th></th>\n      <th>CustomerID</th>\n      <th>First_Name</th>\n      <th>Last_Name</th>\n      <th>Phone_Number</th>\n      <th>Address</th>\n      <th>Paying Customer</th>\n      <th>Do_Not_Contact</th>\n      <th>Not_Useful_Column</th>\n    </tr>\n  </thead>\n  <tbody>\n    <tr>\n      <th>0</th>\n      <td>1001</td>\n      <td>Frodo</td>\n      <td>Baggins</td>\n      <td>123-545-5421</td>\n      <td>123 Shire Lane, Shire</td>\n      <td>Yes</td>\n      <td>No</td>\n      <td>True</td>\n    </tr>\n    <tr>\n      <th>1</th>\n      <td>1002</td>\n      <td>Abed</td>\n      <td>Nadir</td>\n      <td>123/643/9775</td>\n      <td>93 West Main Street</td>\n      <td>No</td>\n      <td>Yes</td>\n      <td>False</td>\n    </tr>\n    <tr>\n      <th>2</th>\n      <td>1003</td>\n      <td>Walter</td>\n      <td>/White</td>\n      <td>7066950392</td>\n      <td>298 Drugs Driveway</td>\n      <td>N</td>\n      <td>NaN</td>\n      <td>True</td>\n    </tr>\n    <tr>\n      <th>3</th>\n      <td>1004</td>\n      <td>Dwight</td>\n      <td>Schrute</td>\n      <td>123-543-2345</td>\n      <td>980 Paper Avenue, Pennsylvania, 18503</td>\n      <td>Yes</td>\n      <td>Y</td>\n      <td>True</td>\n    </tr>\n    <tr>\n      <th>4</th>\n      <td>1005</td>\n      <td>Jon</td>\n      <td>Snow</td>\n      <td>876|678|3469</td>\n      <td>123 Dragons Road</td>\n      <td>Y</td>\n      <td>No</td>\n      <td>True</td>\n    </tr>\n    <tr>\n      <th>5</th>\n      <td>1006</td>\n      <td>Ron</td>\n      <td>Swanson</td>\n      <td>304-762-2467</td>\n      <td>768 City Parkway</td>\n      <td>Yes</td>\n      <td>Yes</td>\n      <td>True</td>\n    </tr>\n    <tr>\n      <th>6</th>\n      <td>1007</td>\n      <td>Jeff</td>\n      <td>Winger</td>\n      <td>NaN</td>\n      <td>1209 South Street</td>\n      <td>No</td>\n      <td>No</td>\n      <td>False</td>\n    </tr>\n    <tr>\n      <th>7</th>\n      <td>1008</td>\n      <td>Sherlock</td>\n      <td>Holmes</td>\n      <td>876|678|3469</td>\n      <td>98 Clue Drive</td>\n      <td>N</td>\n      <td>No</td>\n      <td>False</td>\n    </tr>\n    <tr>\n      <th>8</th>\n      <td>1009</td>\n      <td>Gandalf</td>\n      <td>NaN</td>\n      <td>N/a</td>\n      <td>123 Middle Earth</td>\n      <td>Yes</td>\n      <td>NaN</td>\n      <td>False</td>\n    </tr>\n    <tr>\n      <th>9</th>\n      <td>1010</td>\n      <td>Peter</td>\n      <td>Parker</td>\n      <td>123-545-5421</td>\n      <td>25th Main Street, New York</td>\n      <td>Yes</td>\n      <td>No</td>\n      <td>True</td>\n    </tr>\n    <tr>\n      <th>10</th>\n      <td>1011</td>\n      <td>Samwise</td>\n      <td>Gamgee</td>\n      <td>NaN</td>\n      <td>612 Shire Lane, Shire</td>\n      <td>Yes</td>\n      <td>No</td>\n      <td>True</td>\n    </tr>\n    <tr>\n      <th>11</th>\n      <td>1012</td>\n      <td>Harry</td>\n      <td>...Potter</td>\n      <td>7066950392</td>\n      <td>2394 Hogwarts Avenue</td>\n      <td>Y</td>\n      <td>NaN</td>\n      <td>True</td>\n    </tr>\n    <tr>\n      <th>12</th>\n      <td>1013</td>\n      <td>Don</td>\n      <td>Draper</td>\n      <td>123-543-2345</td>\n      <td>2039 Main Street</td>\n      <td>Yes</td>\n      <td>N</td>\n      <td>False</td>\n    </tr>\n    <tr>\n      <th>13</th>\n      <td>1014</td>\n      <td>Leslie</td>\n      <td>Knope</td>\n      <td>876|678|3469</td>\n      <td>343 City Parkway</td>\n      <td>Yes</td>\n      <td>No</td>\n      <td>False</td>\n    </tr>\n    <tr>\n      <th>14</th>\n      <td>1015</td>\n      <td>Toby</td>\n      <td>Flenderson_</td>\n      <td>304-762-2467</td>\n      <td>214 HR Avenue</td>\n      <td>N</td>\n      <td>No</td>\n      <td>False</td>\n    </tr>\n    <tr>\n      <th>15</th>\n      <td>1016</td>\n      <td>Ron</td>\n      <td>Weasley</td>\n      <td>123-545-5421</td>\n      <td>2395 Hogwarts Avenue</td>\n      <td>No</td>\n      <td>N</td>\n      <td>False</td>\n    </tr>\n    <tr>\n      <th>16</th>\n      <td>1017</td>\n      <td>Michael</td>\n      <td>Scott</td>\n      <td>123/643/9775</td>\n      <td>121 Paper Avenue, Pennsylvania</td>\n      <td>Yes</td>\n      <td>No</td>\n      <td>False</td>\n    </tr>\n    <tr>\n      <th>17</th>\n      <td>1018</td>\n      <td>Clark</td>\n      <td>Kent</td>\n      <td>7066950392</td>\n      <td>3498 Super Lane</td>\n      <td>Y</td>\n      <td>NaN</td>\n      <td>True</td>\n    </tr>\n    <tr>\n      <th>18</th>\n      <td>1019</td>\n      <td>Creed</td>\n      <td>Braton</td>\n      <td>N/a</td>\n      <td>N/a</td>\n      <td>N/a</td>\n      <td>Yes</td>\n      <td>True</td>\n    </tr>\n    <tr>\n      <th>19</th>\n      <td>1020</td>\n      <td>Anakin</td>\n      <td>Skywalker</td>\n      <td>876|678|3469</td>\n      <td>910 Tatooine Road, Tatooine</td>\n      <td>Yes</td>\n      <td>N</td>\n      <td>True</td>\n    </tr>\n    <tr>\n      <th>20</th>\n      <td>1020</td>\n      <td>Anakin</td>\n      <td>Skywalker</td>\n      <td>876|678|3469</td>\n      <td>910 Tatooine Road, Tatooine</td>\n      <td>Yes</td>\n      <td>N</td>\n      <td>True</td>\n    </tr>\n  </tbody>\n</table>\n</div>"
     },
     "execution_count": 11,
     "metadata": {},
     "output_type": "execute_result"
    }
   ],
   "source": [
    "import pandas as pd\n",
    "\n",
    "df = pd.read_excel('Customer Call List.xlsx')\n",
    "df"
   ]
  },
  {
   "cell_type": "code",
   "outputs": [
    {
     "ename": "NameError",
     "evalue": "name 'df' is not defined",
     "output_type": "error",
     "traceback": [
      "\u001B[1;31m---------------------------------------------------------------------------\u001B[0m",
      "\u001B[1;31mNameError\u001B[0m                                 Traceback (most recent call last)",
      "Cell \u001B[1;32mIn[3], line 3\u001B[0m\n\u001B[0;32m      1\u001B[0m \u001B[38;5;66;03m# delete duplicates\u001B[39;00m\n\u001B[1;32m----> 3\u001B[0m \u001B[43mdf\u001B[49m\u001B[38;5;241m.\u001B[39mdrop_duplicates()\n",
      "\u001B[1;31mNameError\u001B[0m: name 'df' is not defined"
     ]
    }
   ],
   "source": [
    "# delete duplicates\n",
    "\n",
    "df.drop_duplicates()"
   ],
   "metadata": {
    "collapsed": false,
    "ExecuteTime": {
     "end_time": "2024-03-23T09:50:05.738960Z",
     "start_time": "2024-03-23T09:50:05.691799Z"
    }
   },
   "id": "2a676ce455baf6c8",
   "execution_count": 3
  },
  {
   "cell_type": "code",
   "outputs": [
    {
     "data": {
      "text/plain": "    CustomerID First_Name    Last_Name  Phone_Number  \\\n0         1001      Frodo      Baggins  123-545-5421   \n1         1002       Abed        Nadir  123/643/9775   \n2         1003     Walter       /White    7066950392   \n3         1004     Dwight      Schrute  123-543-2345   \n4         1005        Jon         Snow  876|678|3469   \n5         1006        Ron      Swanson  304-762-2467   \n6         1007       Jeff       Winger           NaN   \n7         1008   Sherlock       Holmes  876|678|3469   \n8         1009    Gandalf          NaN           N/a   \n9         1010      Peter       Parker  123-545-5421   \n10        1011    Samwise       Gamgee           NaN   \n11        1012      Harry    ...Potter    7066950392   \n12        1013        Don       Draper  123-543-2345   \n13        1014     Leslie        Knope  876|678|3469   \n14        1015       Toby  Flenderson_  304-762-2467   \n15        1016        Ron      Weasley  123-545-5421   \n16        1017   Michael         Scott  123/643/9775   \n17        1018      Clark         Kent    7066950392   \n18        1019      Creed       Braton           N/a   \n19        1020     Anakin    Skywalker  876|678|3469   \n20        1020     Anakin    Skywalker  876|678|3469   \n\n                                  Address Paying Customer Do_Not_Contact  \n0                   123 Shire Lane, Shire             Yes             No  \n1                     93 West Main Street              No            Yes  \n2                      298 Drugs Driveway               N            NaN  \n3   980 Paper Avenue, Pennsylvania, 18503             Yes              Y  \n4                        123 Dragons Road               Y             No  \n5                        768 City Parkway             Yes            Yes  \n6                       1209 South Street              No             No  \n7                           98 Clue Drive               N             No  \n8                        123 Middle Earth             Yes            NaN  \n9              25th Main Street, New York             Yes             No  \n10                  612 Shire Lane, Shire             Yes             No  \n11                   2394 Hogwarts Avenue               Y            NaN  \n12                       2039 Main Street             Yes              N  \n13                       343 City Parkway             Yes             No  \n14                          214 HR Avenue               N             No  \n15                   2395 Hogwarts Avenue              No              N  \n16         121 Paper Avenue, Pennsylvania             Yes             No  \n17                        3498 Super Lane               Y            NaN  \n18                                    N/a             N/a            Yes  \n19            910 Tatooine Road, Tatooine             Yes              N  \n20            910 Tatooine Road, Tatooine             Yes              N  ",
      "text/html": "<div>\n<style scoped>\n    .dataframe tbody tr th:only-of-type {\n        vertical-align: middle;\n    }\n\n    .dataframe tbody tr th {\n        vertical-align: top;\n    }\n\n    .dataframe thead th {\n        text-align: right;\n    }\n</style>\n<table border=\"1\" class=\"dataframe\">\n  <thead>\n    <tr style=\"text-align: right;\">\n      <th></th>\n      <th>CustomerID</th>\n      <th>First_Name</th>\n      <th>Last_Name</th>\n      <th>Phone_Number</th>\n      <th>Address</th>\n      <th>Paying Customer</th>\n      <th>Do_Not_Contact</th>\n    </tr>\n  </thead>\n  <tbody>\n    <tr>\n      <th>0</th>\n      <td>1001</td>\n      <td>Frodo</td>\n      <td>Baggins</td>\n      <td>123-545-5421</td>\n      <td>123 Shire Lane, Shire</td>\n      <td>Yes</td>\n      <td>No</td>\n    </tr>\n    <tr>\n      <th>1</th>\n      <td>1002</td>\n      <td>Abed</td>\n      <td>Nadir</td>\n      <td>123/643/9775</td>\n      <td>93 West Main Street</td>\n      <td>No</td>\n      <td>Yes</td>\n    </tr>\n    <tr>\n      <th>2</th>\n      <td>1003</td>\n      <td>Walter</td>\n      <td>/White</td>\n      <td>7066950392</td>\n      <td>298 Drugs Driveway</td>\n      <td>N</td>\n      <td>NaN</td>\n    </tr>\n    <tr>\n      <th>3</th>\n      <td>1004</td>\n      <td>Dwight</td>\n      <td>Schrute</td>\n      <td>123-543-2345</td>\n      <td>980 Paper Avenue, Pennsylvania, 18503</td>\n      <td>Yes</td>\n      <td>Y</td>\n    </tr>\n    <tr>\n      <th>4</th>\n      <td>1005</td>\n      <td>Jon</td>\n      <td>Snow</td>\n      <td>876|678|3469</td>\n      <td>123 Dragons Road</td>\n      <td>Y</td>\n      <td>No</td>\n    </tr>\n    <tr>\n      <th>5</th>\n      <td>1006</td>\n      <td>Ron</td>\n      <td>Swanson</td>\n      <td>304-762-2467</td>\n      <td>768 City Parkway</td>\n      <td>Yes</td>\n      <td>Yes</td>\n    </tr>\n    <tr>\n      <th>6</th>\n      <td>1007</td>\n      <td>Jeff</td>\n      <td>Winger</td>\n      <td>NaN</td>\n      <td>1209 South Street</td>\n      <td>No</td>\n      <td>No</td>\n    </tr>\n    <tr>\n      <th>7</th>\n      <td>1008</td>\n      <td>Sherlock</td>\n      <td>Holmes</td>\n      <td>876|678|3469</td>\n      <td>98 Clue Drive</td>\n      <td>N</td>\n      <td>No</td>\n    </tr>\n    <tr>\n      <th>8</th>\n      <td>1009</td>\n      <td>Gandalf</td>\n      <td>NaN</td>\n      <td>N/a</td>\n      <td>123 Middle Earth</td>\n      <td>Yes</td>\n      <td>NaN</td>\n    </tr>\n    <tr>\n      <th>9</th>\n      <td>1010</td>\n      <td>Peter</td>\n      <td>Parker</td>\n      <td>123-545-5421</td>\n      <td>25th Main Street, New York</td>\n      <td>Yes</td>\n      <td>No</td>\n    </tr>\n    <tr>\n      <th>10</th>\n      <td>1011</td>\n      <td>Samwise</td>\n      <td>Gamgee</td>\n      <td>NaN</td>\n      <td>612 Shire Lane, Shire</td>\n      <td>Yes</td>\n      <td>No</td>\n    </tr>\n    <tr>\n      <th>11</th>\n      <td>1012</td>\n      <td>Harry</td>\n      <td>...Potter</td>\n      <td>7066950392</td>\n      <td>2394 Hogwarts Avenue</td>\n      <td>Y</td>\n      <td>NaN</td>\n    </tr>\n    <tr>\n      <th>12</th>\n      <td>1013</td>\n      <td>Don</td>\n      <td>Draper</td>\n      <td>123-543-2345</td>\n      <td>2039 Main Street</td>\n      <td>Yes</td>\n      <td>N</td>\n    </tr>\n    <tr>\n      <th>13</th>\n      <td>1014</td>\n      <td>Leslie</td>\n      <td>Knope</td>\n      <td>876|678|3469</td>\n      <td>343 City Parkway</td>\n      <td>Yes</td>\n      <td>No</td>\n    </tr>\n    <tr>\n      <th>14</th>\n      <td>1015</td>\n      <td>Toby</td>\n      <td>Flenderson_</td>\n      <td>304-762-2467</td>\n      <td>214 HR Avenue</td>\n      <td>N</td>\n      <td>No</td>\n    </tr>\n    <tr>\n      <th>15</th>\n      <td>1016</td>\n      <td>Ron</td>\n      <td>Weasley</td>\n      <td>123-545-5421</td>\n      <td>2395 Hogwarts Avenue</td>\n      <td>No</td>\n      <td>N</td>\n    </tr>\n    <tr>\n      <th>16</th>\n      <td>1017</td>\n      <td>Michael</td>\n      <td>Scott</td>\n      <td>123/643/9775</td>\n      <td>121 Paper Avenue, Pennsylvania</td>\n      <td>Yes</td>\n      <td>No</td>\n    </tr>\n    <tr>\n      <th>17</th>\n      <td>1018</td>\n      <td>Clark</td>\n      <td>Kent</td>\n      <td>7066950392</td>\n      <td>3498 Super Lane</td>\n      <td>Y</td>\n      <td>NaN</td>\n    </tr>\n    <tr>\n      <th>18</th>\n      <td>1019</td>\n      <td>Creed</td>\n      <td>Braton</td>\n      <td>N/a</td>\n      <td>N/a</td>\n      <td>N/a</td>\n      <td>Yes</td>\n    </tr>\n    <tr>\n      <th>19</th>\n      <td>1020</td>\n      <td>Anakin</td>\n      <td>Skywalker</td>\n      <td>876|678|3469</td>\n      <td>910 Tatooine Road, Tatooine</td>\n      <td>Yes</td>\n      <td>N</td>\n    </tr>\n    <tr>\n      <th>20</th>\n      <td>1020</td>\n      <td>Anakin</td>\n      <td>Skywalker</td>\n      <td>876|678|3469</td>\n      <td>910 Tatooine Road, Tatooine</td>\n      <td>Yes</td>\n      <td>N</td>\n    </tr>\n  </tbody>\n</table>\n</div>"
     },
     "execution_count": 3,
     "metadata": {},
     "output_type": "execute_result"
    }
   ],
   "source": [
    "# remove not useful column\n",
    "\n",
    "df.drop(columns='Not_Useful_Column')"
   ],
   "metadata": {
    "collapsed": false,
    "ExecuteTime": {
     "end_time": "2024-03-06T08:08:48.866402Z",
     "start_time": "2024-03-06T08:08:48.837317Z"
    }
   },
   "id": "855921f1aabbc621",
   "execution_count": 3
  },
  {
   "cell_type": "code",
   "outputs": [],
   "source": [
    "# clean the Last_name column . Remove bad chars in last names\n",
    "\n",
    "df['Last_Name'] = df['Last_Name'].str.strip('._/')"
   ],
   "metadata": {
    "collapsed": false,
    "ExecuteTime": {
     "end_time": "2024-03-06T08:09:01.039737Z",
     "start_time": "2024-03-06T08:09:01.027523Z"
    }
   },
   "id": "77232e5973b73f84",
   "execution_count": 4
  },
  {
   "cell_type": "code",
   "outputs": [],
   "source": [
    "# Filter the column of phone number\n",
    "\n",
    "df['Phone_Number'] = df['Phone_Number'].str.replace('[^a-zA-Z0-9]', '', regex=True)"
   ],
   "metadata": {
    "collapsed": false,
    "ExecuteTime": {
     "end_time": "2024-03-06T08:15:46.713992Z",
     "start_time": "2024-03-06T08:15:46.699575Z"
    }
   },
   "id": "89a66a91f35a6d0f",
   "execution_count": 17
  },
  {
   "cell_type": "code",
   "outputs": [],
   "source": [
    "# convert phone number to string in order to modify its values\n",
    "\n",
    "df.Phone_Number = df.Phone_Number.apply(lambda x: str(x))"
   ],
   "metadata": {
    "collapsed": false,
    "ExecuteTime": {
     "end_time": "2024-03-06T08:15:48.292594Z",
     "start_time": "2024-03-06T08:15:48.278703Z"
    }
   },
   "id": "8ff64543ade2c6d1",
   "execution_count": 18
  },
  {
   "cell_type": "code",
   "outputs": [],
   "source": [
    "df['Phone_Number'] = df['Phone_Number'].apply(lambda x: x[0:3] + '-' + x[3:6] + '-' + x[6:10])\n",
    "\n",
    "# I made a mistake . I should have put x[0:3] instead of x[0:2]"
   ],
   "metadata": {
    "collapsed": false,
    "ExecuteTime": {
     "end_time": "2024-03-06T08:15:50.532293Z",
     "start_time": "2024-03-06T08:15:50.520206Z"
    }
   },
   "id": "650c0d1917a79d3f",
   "execution_count": 19
  },
  {
   "cell_type": "code",
   "outputs": [
    {
     "data": {
      "text/plain": "0       123-545-54\n1       123-643-97\n2     706-695-0392\n3       123-543-23\n4       876-678-34\n5       304-762-24\n6            nan--\n7       876-678-34\n8             Na--\n9       123-545-54\n10           nan--\n11    706-695-0392\n12      123-543-23\n13      876-678-34\n14      304-762-24\n15      123-545-54\n16      123-643-97\n17    706-695-0392\n18            Na--\n19      876-678-34\n20      876-678-34\nName: Phone_Number, dtype: object"
     },
     "execution_count": 21,
     "metadata": {},
     "output_type": "execute_result"
    }
   ],
   "source": [
    "df.Phone_Number"
   ],
   "metadata": {
    "collapsed": false,
    "ExecuteTime": {
     "end_time": "2024-03-06T08:16:16.155491Z",
     "start_time": "2024-03-06T08:16:16.142405Z"
    }
   },
   "id": "49aa449614785d5a",
   "execution_count": 21
  },
  {
   "cell_type": "code",
   "outputs": [
    {
     "data": {
      "text/plain": "    CustomerID First_Name   Last_Name  Phone_Number  \\\n0         1001      Frodo     Baggins    123-545-54   \n1         1002       Abed       Nadir    123-643-97   \n2         1003     Walter       White  706-695-0392   \n3         1004     Dwight     Schrute    123-543-23   \n4         1005        Jon        Snow    876-678-34   \n5         1006        Ron     Swanson    304-762-24   \n6         1007       Jeff      Winger         nan--   \n7         1008   Sherlock      Holmes    876-678-34   \n8         1009    Gandalf         NaN          Na--   \n9         1010      Peter      Parker    123-545-54   \n10        1011    Samwise      Gamgee         nan--   \n11        1012      Harry      Potter  706-695-0392   \n12        1013        Don      Draper    123-543-23   \n13        1014     Leslie       Knope    876-678-34   \n14        1015       Toby  Flenderson    304-762-24   \n15        1016        Ron     Weasley    123-545-54   \n16        1017   Michael        Scott    123-643-97   \n17        1018      Clark        Kent  706-695-0392   \n18        1019      Creed      Braton          Na--   \n19        1020     Anakin   Skywalker    876-678-34   \n20        1020     Anakin   Skywalker    876-678-34   \n\n                                  Address Paying Customer Do_Not_Contact  \\\n0                   123 Shire Lane, Shire             Yes             No   \n1                     93 West Main Street              No            Yes   \n2                      298 Drugs Driveway               N            NaN   \n3   980 Paper Avenue, Pennsylvania, 18503             Yes              Y   \n4                        123 Dragons Road               Y             No   \n5                        768 City Parkway             Yes            Yes   \n6                       1209 South Street              No             No   \n7                           98 Clue Drive               N             No   \n8                        123 Middle Earth             Yes            NaN   \n9              25th Main Street, New York             Yes             No   \n10                  612 Shire Lane, Shire             Yes             No   \n11                   2394 Hogwarts Avenue               Y            NaN   \n12                       2039 Main Street             Yes              N   \n13                       343 City Parkway             Yes             No   \n14                          214 HR Avenue               N             No   \n15                   2395 Hogwarts Avenue              No              N   \n16         121 Paper Avenue, Pennsylvania             Yes             No   \n17                        3498 Super Lane               Y            NaN   \n18                                    N/a             N/a            Yes   \n19            910 Tatooine Road, Tatooine             Yes              N   \n20            910 Tatooine Road, Tatooine             Yes              N   \n\n    Not_Useful_Column        Street_Address          State Zip_Code  \n0                True        123 Shire Lane          Shire     None  \n1               False   93 West Main Street           None     None  \n2                True    298 Drugs Driveway           None     None  \n3                True      980 Paper Avenue   Pennsylvania    18503  \n4                True      123 Dragons Road           None     None  \n5                True      768 City Parkway           None     None  \n6               False     1209 South Street           None     None  \n7               False         98 Clue Drive           None     None  \n8               False      123 Middle Earth           None     None  \n9                True      25th Main Street       New York     None  \n10               True        612 Shire Lane          Shire     None  \n11               True  2394 Hogwarts Avenue           None     None  \n12              False      2039 Main Street           None     None  \n13              False      343 City Parkway           None     None  \n14              False         214 HR Avenue           None     None  \n15              False  2395 Hogwarts Avenue           None     None  \n16              False      121 Paper Avenue   Pennsylvania     None  \n17               True       3498 Super Lane           None     None  \n18               True                   N/a           None     None  \n19               True     910 Tatooine Road       Tatooine     None  \n20               True     910 Tatooine Road       Tatooine     None  ",
      "text/html": "<div>\n<style scoped>\n    .dataframe tbody tr th:only-of-type {\n        vertical-align: middle;\n    }\n\n    .dataframe tbody tr th {\n        vertical-align: top;\n    }\n\n    .dataframe thead th {\n        text-align: right;\n    }\n</style>\n<table border=\"1\" class=\"dataframe\">\n  <thead>\n    <tr style=\"text-align: right;\">\n      <th></th>\n      <th>CustomerID</th>\n      <th>First_Name</th>\n      <th>Last_Name</th>\n      <th>Phone_Number</th>\n      <th>Address</th>\n      <th>Paying Customer</th>\n      <th>Do_Not_Contact</th>\n      <th>Not_Useful_Column</th>\n      <th>Street_Address</th>\n      <th>State</th>\n      <th>Zip_Code</th>\n    </tr>\n  </thead>\n  <tbody>\n    <tr>\n      <th>0</th>\n      <td>1001</td>\n      <td>Frodo</td>\n      <td>Baggins</td>\n      <td>123-545-54</td>\n      <td>123 Shire Lane, Shire</td>\n      <td>Yes</td>\n      <td>No</td>\n      <td>True</td>\n      <td>123 Shire Lane</td>\n      <td>Shire</td>\n      <td>None</td>\n    </tr>\n    <tr>\n      <th>1</th>\n      <td>1002</td>\n      <td>Abed</td>\n      <td>Nadir</td>\n      <td>123-643-97</td>\n      <td>93 West Main Street</td>\n      <td>No</td>\n      <td>Yes</td>\n      <td>False</td>\n      <td>93 West Main Street</td>\n      <td>None</td>\n      <td>None</td>\n    </tr>\n    <tr>\n      <th>2</th>\n      <td>1003</td>\n      <td>Walter</td>\n      <td>White</td>\n      <td>706-695-0392</td>\n      <td>298 Drugs Driveway</td>\n      <td>N</td>\n      <td>NaN</td>\n      <td>True</td>\n      <td>298 Drugs Driveway</td>\n      <td>None</td>\n      <td>None</td>\n    </tr>\n    <tr>\n      <th>3</th>\n      <td>1004</td>\n      <td>Dwight</td>\n      <td>Schrute</td>\n      <td>123-543-23</td>\n      <td>980 Paper Avenue, Pennsylvania, 18503</td>\n      <td>Yes</td>\n      <td>Y</td>\n      <td>True</td>\n      <td>980 Paper Avenue</td>\n      <td>Pennsylvania</td>\n      <td>18503</td>\n    </tr>\n    <tr>\n      <th>4</th>\n      <td>1005</td>\n      <td>Jon</td>\n      <td>Snow</td>\n      <td>876-678-34</td>\n      <td>123 Dragons Road</td>\n      <td>Y</td>\n      <td>No</td>\n      <td>True</td>\n      <td>123 Dragons Road</td>\n      <td>None</td>\n      <td>None</td>\n    </tr>\n    <tr>\n      <th>5</th>\n      <td>1006</td>\n      <td>Ron</td>\n      <td>Swanson</td>\n      <td>304-762-24</td>\n      <td>768 City Parkway</td>\n      <td>Yes</td>\n      <td>Yes</td>\n      <td>True</td>\n      <td>768 City Parkway</td>\n      <td>None</td>\n      <td>None</td>\n    </tr>\n    <tr>\n      <th>6</th>\n      <td>1007</td>\n      <td>Jeff</td>\n      <td>Winger</td>\n      <td>nan--</td>\n      <td>1209 South Street</td>\n      <td>No</td>\n      <td>No</td>\n      <td>False</td>\n      <td>1209 South Street</td>\n      <td>None</td>\n      <td>None</td>\n    </tr>\n    <tr>\n      <th>7</th>\n      <td>1008</td>\n      <td>Sherlock</td>\n      <td>Holmes</td>\n      <td>876-678-34</td>\n      <td>98 Clue Drive</td>\n      <td>N</td>\n      <td>No</td>\n      <td>False</td>\n      <td>98 Clue Drive</td>\n      <td>None</td>\n      <td>None</td>\n    </tr>\n    <tr>\n      <th>8</th>\n      <td>1009</td>\n      <td>Gandalf</td>\n      <td>NaN</td>\n      <td>Na--</td>\n      <td>123 Middle Earth</td>\n      <td>Yes</td>\n      <td>NaN</td>\n      <td>False</td>\n      <td>123 Middle Earth</td>\n      <td>None</td>\n      <td>None</td>\n    </tr>\n    <tr>\n      <th>9</th>\n      <td>1010</td>\n      <td>Peter</td>\n      <td>Parker</td>\n      <td>123-545-54</td>\n      <td>25th Main Street, New York</td>\n      <td>Yes</td>\n      <td>No</td>\n      <td>True</td>\n      <td>25th Main Street</td>\n      <td>New York</td>\n      <td>None</td>\n    </tr>\n    <tr>\n      <th>10</th>\n      <td>1011</td>\n      <td>Samwise</td>\n      <td>Gamgee</td>\n      <td>nan--</td>\n      <td>612 Shire Lane, Shire</td>\n      <td>Yes</td>\n      <td>No</td>\n      <td>True</td>\n      <td>612 Shire Lane</td>\n      <td>Shire</td>\n      <td>None</td>\n    </tr>\n    <tr>\n      <th>11</th>\n      <td>1012</td>\n      <td>Harry</td>\n      <td>Potter</td>\n      <td>706-695-0392</td>\n      <td>2394 Hogwarts Avenue</td>\n      <td>Y</td>\n      <td>NaN</td>\n      <td>True</td>\n      <td>2394 Hogwarts Avenue</td>\n      <td>None</td>\n      <td>None</td>\n    </tr>\n    <tr>\n      <th>12</th>\n      <td>1013</td>\n      <td>Don</td>\n      <td>Draper</td>\n      <td>123-543-23</td>\n      <td>2039 Main Street</td>\n      <td>Yes</td>\n      <td>N</td>\n      <td>False</td>\n      <td>2039 Main Street</td>\n      <td>None</td>\n      <td>None</td>\n    </tr>\n    <tr>\n      <th>13</th>\n      <td>1014</td>\n      <td>Leslie</td>\n      <td>Knope</td>\n      <td>876-678-34</td>\n      <td>343 City Parkway</td>\n      <td>Yes</td>\n      <td>No</td>\n      <td>False</td>\n      <td>343 City Parkway</td>\n      <td>None</td>\n      <td>None</td>\n    </tr>\n    <tr>\n      <th>14</th>\n      <td>1015</td>\n      <td>Toby</td>\n      <td>Flenderson</td>\n      <td>304-762-24</td>\n      <td>214 HR Avenue</td>\n      <td>N</td>\n      <td>No</td>\n      <td>False</td>\n      <td>214 HR Avenue</td>\n      <td>None</td>\n      <td>None</td>\n    </tr>\n    <tr>\n      <th>15</th>\n      <td>1016</td>\n      <td>Ron</td>\n      <td>Weasley</td>\n      <td>123-545-54</td>\n      <td>2395 Hogwarts Avenue</td>\n      <td>No</td>\n      <td>N</td>\n      <td>False</td>\n      <td>2395 Hogwarts Avenue</td>\n      <td>None</td>\n      <td>None</td>\n    </tr>\n    <tr>\n      <th>16</th>\n      <td>1017</td>\n      <td>Michael</td>\n      <td>Scott</td>\n      <td>123-643-97</td>\n      <td>121 Paper Avenue, Pennsylvania</td>\n      <td>Yes</td>\n      <td>No</td>\n      <td>False</td>\n      <td>121 Paper Avenue</td>\n      <td>Pennsylvania</td>\n      <td>None</td>\n    </tr>\n    <tr>\n      <th>17</th>\n      <td>1018</td>\n      <td>Clark</td>\n      <td>Kent</td>\n      <td>706-695-0392</td>\n      <td>3498 Super Lane</td>\n      <td>Y</td>\n      <td>NaN</td>\n      <td>True</td>\n      <td>3498 Super Lane</td>\n      <td>None</td>\n      <td>None</td>\n    </tr>\n    <tr>\n      <th>18</th>\n      <td>1019</td>\n      <td>Creed</td>\n      <td>Braton</td>\n      <td>Na--</td>\n      <td>N/a</td>\n      <td>N/a</td>\n      <td>Yes</td>\n      <td>True</td>\n      <td>N/a</td>\n      <td>None</td>\n      <td>None</td>\n    </tr>\n    <tr>\n      <th>19</th>\n      <td>1020</td>\n      <td>Anakin</td>\n      <td>Skywalker</td>\n      <td>876-678-34</td>\n      <td>910 Tatooine Road, Tatooine</td>\n      <td>Yes</td>\n      <td>N</td>\n      <td>True</td>\n      <td>910 Tatooine Road</td>\n      <td>Tatooine</td>\n      <td>None</td>\n    </tr>\n    <tr>\n      <th>20</th>\n      <td>1020</td>\n      <td>Anakin</td>\n      <td>Skywalker</td>\n      <td>876-678-34</td>\n      <td>910 Tatooine Road, Tatooine</td>\n      <td>Yes</td>\n      <td>N</td>\n      <td>True</td>\n      <td>910 Tatooine Road</td>\n      <td>Tatooine</td>\n      <td>None</td>\n    </tr>\n  </tbody>\n</table>\n</div>"
     },
     "execution_count": 30,
     "metadata": {},
     "output_type": "execute_result"
    }
   ],
   "source": [
    "# Clean the address column \n",
    "# Separate the address the state and the number\n",
    "\n",
    "df[['Street_Address', 'State', 'Zip_Code']] = df['Address'].str.split(',', expand=True)\n",
    "df"
   ],
   "metadata": {
    "collapsed": false,
    "ExecuteTime": {
     "end_time": "2024-03-06T08:37:49.979325Z",
     "start_time": "2024-03-06T08:37:49.963106Z"
    }
   },
   "id": "60b4794fb8189f0d",
   "execution_count": 30
  },
  {
   "cell_type": "code",
   "outputs": [],
   "source": [
    "# Clean the paying customer column .Because there are Yes , Y, No , N values,and I want to be good looking.\n",
    "# Replace Yes/No with Y/N.\n",
    "\n",
    "# First replace Yes with Y\n",
    "df['Paying Customer'] = df['Paying Customer'].str.replace('Yes', 'Y')"
   ],
   "metadata": {
    "collapsed": false,
    "ExecuteTime": {
     "end_time": "2024-03-06T08:48:34.271907Z",
     "start_time": "2024-03-06T08:48:34.259079Z"
    }
   },
   "id": "34f4a3593aca5d4c",
   "execution_count": 41
  },
  {
   "cell_type": "code",
   "outputs": [],
   "source": [
    "# Second replace No with N \n",
    "\n",
    "df['Paying Customer'] = df['Paying Customer'].str.replace('No', 'N')"
   ],
   "metadata": {
    "collapsed": false,
    "ExecuteTime": {
     "end_time": "2024-03-06T08:50:38.933174Z",
     "start_time": "2024-03-06T08:50:38.927789Z"
    }
   },
   "id": "8cb7d6fa010b2aad",
   "execution_count": 44
  },
  {
   "cell_type": "code",
   "outputs": [
    {
     "data": {
      "text/plain": "0       Y\n1       N\n2       N\n3       Y\n4       Y\n5       Y\n6       N\n7       N\n8       Y\n9       Y\n10      Y\n11      Y\n12      Y\n13      Y\n14      N\n15      N\n16      Y\n17      Y\n18    N/a\n19      Y\n20      Y\nName: Paying Customer, dtype: object"
     },
     "execution_count": 46,
     "metadata": {},
     "output_type": "execute_result"
    }
   ],
   "source": [
    "df['Paying Customer']"
   ],
   "metadata": {
    "collapsed": false,
    "ExecuteTime": {
     "end_time": "2024-03-06T08:55:44.128592Z",
     "start_time": "2024-03-06T08:55:44.118365Z"
    }
   },
   "id": "bb9af875da7664dc",
   "execution_count": 46
  },
  {
   "cell_type": "code",
   "outputs": [],
   "source": [
    "# Do the same for the Do_Not_Contant column \n",
    "# First with the Yes\n",
    "\n",
    "df['Do_Not_Contact'] = df['Do_Not_Contact'].str.replace('Yes', 'Y')"
   ],
   "metadata": {
    "collapsed": false,
    "ExecuteTime": {
     "end_time": "2024-03-06T09:00:37.323921Z",
     "start_time": "2024-03-06T09:00:37.316Z"
    }
   },
   "id": "792f45fd13d1cae9",
   "execution_count": 48
  },
  {
   "cell_type": "code",
   "outputs": [],
   "source": [
    "# Second with the No\n",
    "df['Do_Not_Contact'] = df['Do_Not_Contact'].str.replace('No', 'N')"
   ],
   "metadata": {
    "collapsed": false,
    "ExecuteTime": {
     "end_time": "2024-03-06T09:01:30.376998Z",
     "start_time": "2024-03-06T09:01:30.371093Z"
    }
   },
   "id": "18d53e957429fd3e",
   "execution_count": 50
  },
  {
   "cell_type": "code",
   "outputs": [
    {
     "data": {
      "text/plain": "0       N\n1       Y\n2     NaN\n3       Y\n4       N\n5       Y\n6       N\n7       N\n8     NaN\n9       N\n10      N\n11    NaN\n12      N\n13      N\n14      N\n15      N\n16      N\n17    NaN\n18      Y\n19      N\n20      N\nName: Do_Not_Contact, dtype: object"
     },
     "execution_count": 58,
     "metadata": {},
     "output_type": "execute_result"
    }
   ],
   "source": [
    "df['Do_Not_Contact']"
   ],
   "metadata": {
    "collapsed": false,
    "ExecuteTime": {
     "end_time": "2024-03-06T10:42:19.961589Z",
     "start_time": "2024-03-06T10:42:19.904722Z"
    }
   },
   "id": "21a01c911cea69c6",
   "execution_count": 58
  },
  {
   "cell_type": "code",
   "outputs": [
    {
     "ename": "KeyError",
     "evalue": "\"['Not_Useful_Column'] not found in axis\"",
     "output_type": "error",
     "traceback": [
      "\u001B[1;31m---------------------------------------------------------------------------\u001B[0m",
      "\u001B[1;31mKeyError\u001B[0m                                  Traceback (most recent call last)",
      "Cell \u001B[1;32mIn[55], line 1\u001B[0m\n\u001B[1;32m----> 1\u001B[0m \u001B[43mdf\u001B[49m\u001B[38;5;241;43m.\u001B[39;49m\u001B[43mdrop\u001B[49m\u001B[43m(\u001B[49m\u001B[43mcolumns\u001B[49m\u001B[38;5;241;43m=\u001B[39;49m\u001B[38;5;124;43m'\u001B[39;49m\u001B[38;5;124;43mNot_Useful_Column\u001B[39;49m\u001B[38;5;124;43m'\u001B[39;49m\u001B[43m,\u001B[49m\u001B[43m \u001B[49m\u001B[43minplace\u001B[49m\u001B[38;5;241;43m=\u001B[39;49m\u001B[38;5;28;43;01mTrue\u001B[39;49;00m\u001B[43m)\u001B[49m\n",
      "File \u001B[1;32m~\\DataspellProjects\\practise_data_science\\venv\\Lib\\site-packages\\pandas\\core\\frame.py:5344\u001B[0m, in \u001B[0;36mDataFrame.drop\u001B[1;34m(self, labels, axis, index, columns, level, inplace, errors)\u001B[0m\n\u001B[0;32m   5196\u001B[0m \u001B[38;5;28;01mdef\u001B[39;00m \u001B[38;5;21mdrop\u001B[39m(\n\u001B[0;32m   5197\u001B[0m     \u001B[38;5;28mself\u001B[39m,\n\u001B[0;32m   5198\u001B[0m     labels: IndexLabel \u001B[38;5;241m|\u001B[39m \u001B[38;5;28;01mNone\u001B[39;00m \u001B[38;5;241m=\u001B[39m \u001B[38;5;28;01mNone\u001B[39;00m,\n\u001B[1;32m   (...)\u001B[0m\n\u001B[0;32m   5205\u001B[0m     errors: IgnoreRaise \u001B[38;5;241m=\u001B[39m \u001B[38;5;124m\"\u001B[39m\u001B[38;5;124mraise\u001B[39m\u001B[38;5;124m\"\u001B[39m,\n\u001B[0;32m   5206\u001B[0m ) \u001B[38;5;241m-\u001B[39m\u001B[38;5;241m>\u001B[39m DataFrame \u001B[38;5;241m|\u001B[39m \u001B[38;5;28;01mNone\u001B[39;00m:\n\u001B[0;32m   5207\u001B[0m \u001B[38;5;250m    \u001B[39m\u001B[38;5;124;03m\"\"\"\u001B[39;00m\n\u001B[0;32m   5208\u001B[0m \u001B[38;5;124;03m    Drop specified labels from rows or columns.\u001B[39;00m\n\u001B[0;32m   5209\u001B[0m \n\u001B[1;32m   (...)\u001B[0m\n\u001B[0;32m   5342\u001B[0m \u001B[38;5;124;03m            weight  1.0     0.8\u001B[39;00m\n\u001B[0;32m   5343\u001B[0m \u001B[38;5;124;03m    \"\"\"\u001B[39;00m\n\u001B[1;32m-> 5344\u001B[0m     \u001B[38;5;28;01mreturn\u001B[39;00m \u001B[38;5;28;43msuper\u001B[39;49m\u001B[43m(\u001B[49m\u001B[43m)\u001B[49m\u001B[38;5;241;43m.\u001B[39;49m\u001B[43mdrop\u001B[49m\u001B[43m(\u001B[49m\n\u001B[0;32m   5345\u001B[0m \u001B[43m        \u001B[49m\u001B[43mlabels\u001B[49m\u001B[38;5;241;43m=\u001B[39;49m\u001B[43mlabels\u001B[49m\u001B[43m,\u001B[49m\n\u001B[0;32m   5346\u001B[0m \u001B[43m        \u001B[49m\u001B[43maxis\u001B[49m\u001B[38;5;241;43m=\u001B[39;49m\u001B[43maxis\u001B[49m\u001B[43m,\u001B[49m\n\u001B[0;32m   5347\u001B[0m \u001B[43m        \u001B[49m\u001B[43mindex\u001B[49m\u001B[38;5;241;43m=\u001B[39;49m\u001B[43mindex\u001B[49m\u001B[43m,\u001B[49m\n\u001B[0;32m   5348\u001B[0m \u001B[43m        \u001B[49m\u001B[43mcolumns\u001B[49m\u001B[38;5;241;43m=\u001B[39;49m\u001B[43mcolumns\u001B[49m\u001B[43m,\u001B[49m\n\u001B[0;32m   5349\u001B[0m \u001B[43m        \u001B[49m\u001B[43mlevel\u001B[49m\u001B[38;5;241;43m=\u001B[39;49m\u001B[43mlevel\u001B[49m\u001B[43m,\u001B[49m\n\u001B[0;32m   5350\u001B[0m \u001B[43m        \u001B[49m\u001B[43minplace\u001B[49m\u001B[38;5;241;43m=\u001B[39;49m\u001B[43minplace\u001B[49m\u001B[43m,\u001B[49m\n\u001B[0;32m   5351\u001B[0m \u001B[43m        \u001B[49m\u001B[43merrors\u001B[49m\u001B[38;5;241;43m=\u001B[39;49m\u001B[43merrors\u001B[49m\u001B[43m,\u001B[49m\n\u001B[0;32m   5352\u001B[0m \u001B[43m    \u001B[49m\u001B[43m)\u001B[49m\n",
      "File \u001B[1;32m~\\DataspellProjects\\practise_data_science\\venv\\Lib\\site-packages\\pandas\\core\\generic.py:4711\u001B[0m, in \u001B[0;36mNDFrame.drop\u001B[1;34m(self, labels, axis, index, columns, level, inplace, errors)\u001B[0m\n\u001B[0;32m   4709\u001B[0m \u001B[38;5;28;01mfor\u001B[39;00m axis, labels \u001B[38;5;129;01min\u001B[39;00m axes\u001B[38;5;241m.\u001B[39mitems():\n\u001B[0;32m   4710\u001B[0m     \u001B[38;5;28;01mif\u001B[39;00m labels \u001B[38;5;129;01mis\u001B[39;00m \u001B[38;5;129;01mnot\u001B[39;00m \u001B[38;5;28;01mNone\u001B[39;00m:\n\u001B[1;32m-> 4711\u001B[0m         obj \u001B[38;5;241m=\u001B[39m \u001B[43mobj\u001B[49m\u001B[38;5;241;43m.\u001B[39;49m\u001B[43m_drop_axis\u001B[49m\u001B[43m(\u001B[49m\u001B[43mlabels\u001B[49m\u001B[43m,\u001B[49m\u001B[43m \u001B[49m\u001B[43maxis\u001B[49m\u001B[43m,\u001B[49m\u001B[43m \u001B[49m\u001B[43mlevel\u001B[49m\u001B[38;5;241;43m=\u001B[39;49m\u001B[43mlevel\u001B[49m\u001B[43m,\u001B[49m\u001B[43m \u001B[49m\u001B[43merrors\u001B[49m\u001B[38;5;241;43m=\u001B[39;49m\u001B[43merrors\u001B[49m\u001B[43m)\u001B[49m\n\u001B[0;32m   4713\u001B[0m \u001B[38;5;28;01mif\u001B[39;00m inplace:\n\u001B[0;32m   4714\u001B[0m     \u001B[38;5;28mself\u001B[39m\u001B[38;5;241m.\u001B[39m_update_inplace(obj)\n",
      "File \u001B[1;32m~\\DataspellProjects\\practise_data_science\\venv\\Lib\\site-packages\\pandas\\core\\generic.py:4753\u001B[0m, in \u001B[0;36mNDFrame._drop_axis\u001B[1;34m(self, labels, axis, level, errors, only_slice)\u001B[0m\n\u001B[0;32m   4751\u001B[0m         new_axis \u001B[38;5;241m=\u001B[39m axis\u001B[38;5;241m.\u001B[39mdrop(labels, level\u001B[38;5;241m=\u001B[39mlevel, errors\u001B[38;5;241m=\u001B[39merrors)\n\u001B[0;32m   4752\u001B[0m     \u001B[38;5;28;01melse\u001B[39;00m:\n\u001B[1;32m-> 4753\u001B[0m         new_axis \u001B[38;5;241m=\u001B[39m \u001B[43maxis\u001B[49m\u001B[38;5;241;43m.\u001B[39;49m\u001B[43mdrop\u001B[49m\u001B[43m(\u001B[49m\u001B[43mlabels\u001B[49m\u001B[43m,\u001B[49m\u001B[43m \u001B[49m\u001B[43merrors\u001B[49m\u001B[38;5;241;43m=\u001B[39;49m\u001B[43merrors\u001B[49m\u001B[43m)\u001B[49m\n\u001B[0;32m   4754\u001B[0m     indexer \u001B[38;5;241m=\u001B[39m axis\u001B[38;5;241m.\u001B[39mget_indexer(new_axis)\n\u001B[0;32m   4756\u001B[0m \u001B[38;5;66;03m# Case for non-unique axis\u001B[39;00m\n\u001B[0;32m   4757\u001B[0m \u001B[38;5;28;01melse\u001B[39;00m:\n",
      "File \u001B[1;32m~\\DataspellProjects\\practise_data_science\\venv\\Lib\\site-packages\\pandas\\core\\indexes\\base.py:7000\u001B[0m, in \u001B[0;36mIndex.drop\u001B[1;34m(self, labels, errors)\u001B[0m\n\u001B[0;32m   6998\u001B[0m \u001B[38;5;28;01mif\u001B[39;00m mask\u001B[38;5;241m.\u001B[39many():\n\u001B[0;32m   6999\u001B[0m     \u001B[38;5;28;01mif\u001B[39;00m errors \u001B[38;5;241m!=\u001B[39m \u001B[38;5;124m\"\u001B[39m\u001B[38;5;124mignore\u001B[39m\u001B[38;5;124m\"\u001B[39m:\n\u001B[1;32m-> 7000\u001B[0m         \u001B[38;5;28;01mraise\u001B[39;00m \u001B[38;5;167;01mKeyError\u001B[39;00m(\u001B[38;5;124mf\u001B[39m\u001B[38;5;124m\"\u001B[39m\u001B[38;5;132;01m{\u001B[39;00mlabels[mask]\u001B[38;5;241m.\u001B[39mtolist()\u001B[38;5;132;01m}\u001B[39;00m\u001B[38;5;124m not found in axis\u001B[39m\u001B[38;5;124m\"\u001B[39m)\n\u001B[0;32m   7001\u001B[0m     indexer \u001B[38;5;241m=\u001B[39m indexer[\u001B[38;5;241m~\u001B[39mmask]\n\u001B[0;32m   7002\u001B[0m \u001B[38;5;28;01mreturn\u001B[39;00m \u001B[38;5;28mself\u001B[39m\u001B[38;5;241m.\u001B[39mdelete(indexer)\n",
      "\u001B[1;31mKeyError\u001B[0m: \"['Not_Useful_Column'] not found in axis\""
     ]
    }
   ],
   "source": [
    "# Drop the not useful column\n",
    "\n",
    "df.drop(columns='Not_Useful_Column', inplace=True)"
   ],
   "metadata": {
    "collapsed": false,
    "ExecuteTime": {
     "end_time": "2024-03-06T09:06:54.030106Z",
     "start_time": "2024-03-06T09:06:53.354719Z"
    }
   },
   "id": "878588a3c65f9dd",
   "execution_count": 55
  },
  {
   "cell_type": "code",
   "outputs": [
    {
     "data": {
      "text/plain": "    CustomerID First_Name   Last_Name  Phone_Number  \\\n0         1001      Frodo     Baggins    123-545-54   \n1         1002       Abed       Nadir    123-643-97   \n2         1003     Walter       White  706-695-0392   \n3         1004     Dwight     Schrute    123-543-23   \n4         1005        Jon        Snow    876-678-34   \n5         1006        Ron     Swanson    304-762-24   \n6         1007       Jeff      Winger         nan--   \n7         1008   Sherlock      Holmes    876-678-34   \n8         1009    Gandalf         NaN          Na--   \n9         1010      Peter      Parker    123-545-54   \n10        1011    Samwise      Gamgee         nan--   \n11        1012      Harry      Potter  706-695-0392   \n12        1013        Don      Draper    123-543-23   \n13        1014     Leslie       Knope    876-678-34   \n14        1015       Toby  Flenderson    304-762-24   \n15        1016        Ron     Weasley    123-545-54   \n16        1017   Michael        Scott    123-643-97   \n17        1018      Clark        Kent  706-695-0392   \n18        1019      Creed      Braton          Na--   \n19        1020     Anakin   Skywalker    876-678-34   \n20        1020     Anakin   Skywalker    876-678-34   \n\n                                  Address Paying Customer Do_Not_Contact  \\\n0                   123 Shire Lane, Shire               Y              N   \n1                     93 West Main Street               N              Y   \n2                      298 Drugs Driveway               N            NaN   \n3   980 Paper Avenue, Pennsylvania, 18503               Y              Y   \n4                        123 Dragons Road               Y              N   \n5                        768 City Parkway               Y              Y   \n6                       1209 South Street               N              N   \n7                           98 Clue Drive               N              N   \n8                        123 Middle Earth               Y            NaN   \n9              25th Main Street, New York               Y              N   \n10                  612 Shire Lane, Shire               Y              N   \n11                   2394 Hogwarts Avenue               Y            NaN   \n12                       2039 Main Street               Y              N   \n13                       343 City Parkway               Y              N   \n14                          214 HR Avenue               N              N   \n15                   2395 Hogwarts Avenue               N              N   \n16         121 Paper Avenue, Pennsylvania               Y              N   \n17                        3498 Super Lane               Y            NaN   \n18                                    N/a             N/a              Y   \n19            910 Tatooine Road, Tatooine               Y              N   \n20            910 Tatooine Road, Tatooine               Y              N   \n\n          Street_Address          State Zip_Code  \n0         123 Shire Lane          Shire     None  \n1    93 West Main Street           None     None  \n2     298 Drugs Driveway           None     None  \n3       980 Paper Avenue   Pennsylvania    18503  \n4       123 Dragons Road           None     None  \n5       768 City Parkway           None     None  \n6      1209 South Street           None     None  \n7          98 Clue Drive           None     None  \n8       123 Middle Earth           None     None  \n9       25th Main Street       New York     None  \n10        612 Shire Lane          Shire     None  \n11  2394 Hogwarts Avenue           None     None  \n12      2039 Main Street           None     None  \n13      343 City Parkway           None     None  \n14         214 HR Avenue           None     None  \n15  2395 Hogwarts Avenue           None     None  \n16      121 Paper Avenue   Pennsylvania     None  \n17       3498 Super Lane           None     None  \n18                   N/a           None     None  \n19     910 Tatooine Road       Tatooine     None  \n20     910 Tatooine Road       Tatooine     None  ",
      "text/html": "<div>\n<style scoped>\n    .dataframe tbody tr th:only-of-type {\n        vertical-align: middle;\n    }\n\n    .dataframe tbody tr th {\n        vertical-align: top;\n    }\n\n    .dataframe thead th {\n        text-align: right;\n    }\n</style>\n<table border=\"1\" class=\"dataframe\">\n  <thead>\n    <tr style=\"text-align: right;\">\n      <th></th>\n      <th>CustomerID</th>\n      <th>First_Name</th>\n      <th>Last_Name</th>\n      <th>Phone_Number</th>\n      <th>Address</th>\n      <th>Paying Customer</th>\n      <th>Do_Not_Contact</th>\n      <th>Street_Address</th>\n      <th>State</th>\n      <th>Zip_Code</th>\n    </tr>\n  </thead>\n  <tbody>\n    <tr>\n      <th>0</th>\n      <td>1001</td>\n      <td>Frodo</td>\n      <td>Baggins</td>\n      <td>123-545-54</td>\n      <td>123 Shire Lane, Shire</td>\n      <td>Y</td>\n      <td>N</td>\n      <td>123 Shire Lane</td>\n      <td>Shire</td>\n      <td>None</td>\n    </tr>\n    <tr>\n      <th>1</th>\n      <td>1002</td>\n      <td>Abed</td>\n      <td>Nadir</td>\n      <td>123-643-97</td>\n      <td>93 West Main Street</td>\n      <td>N</td>\n      <td>Y</td>\n      <td>93 West Main Street</td>\n      <td>None</td>\n      <td>None</td>\n    </tr>\n    <tr>\n      <th>2</th>\n      <td>1003</td>\n      <td>Walter</td>\n      <td>White</td>\n      <td>706-695-0392</td>\n      <td>298 Drugs Driveway</td>\n      <td>N</td>\n      <td>NaN</td>\n      <td>298 Drugs Driveway</td>\n      <td>None</td>\n      <td>None</td>\n    </tr>\n    <tr>\n      <th>3</th>\n      <td>1004</td>\n      <td>Dwight</td>\n      <td>Schrute</td>\n      <td>123-543-23</td>\n      <td>980 Paper Avenue, Pennsylvania, 18503</td>\n      <td>Y</td>\n      <td>Y</td>\n      <td>980 Paper Avenue</td>\n      <td>Pennsylvania</td>\n      <td>18503</td>\n    </tr>\n    <tr>\n      <th>4</th>\n      <td>1005</td>\n      <td>Jon</td>\n      <td>Snow</td>\n      <td>876-678-34</td>\n      <td>123 Dragons Road</td>\n      <td>Y</td>\n      <td>N</td>\n      <td>123 Dragons Road</td>\n      <td>None</td>\n      <td>None</td>\n    </tr>\n    <tr>\n      <th>5</th>\n      <td>1006</td>\n      <td>Ron</td>\n      <td>Swanson</td>\n      <td>304-762-24</td>\n      <td>768 City Parkway</td>\n      <td>Y</td>\n      <td>Y</td>\n      <td>768 City Parkway</td>\n      <td>None</td>\n      <td>None</td>\n    </tr>\n    <tr>\n      <th>6</th>\n      <td>1007</td>\n      <td>Jeff</td>\n      <td>Winger</td>\n      <td>nan--</td>\n      <td>1209 South Street</td>\n      <td>N</td>\n      <td>N</td>\n      <td>1209 South Street</td>\n      <td>None</td>\n      <td>None</td>\n    </tr>\n    <tr>\n      <th>7</th>\n      <td>1008</td>\n      <td>Sherlock</td>\n      <td>Holmes</td>\n      <td>876-678-34</td>\n      <td>98 Clue Drive</td>\n      <td>N</td>\n      <td>N</td>\n      <td>98 Clue Drive</td>\n      <td>None</td>\n      <td>None</td>\n    </tr>\n    <tr>\n      <th>8</th>\n      <td>1009</td>\n      <td>Gandalf</td>\n      <td>NaN</td>\n      <td>Na--</td>\n      <td>123 Middle Earth</td>\n      <td>Y</td>\n      <td>NaN</td>\n      <td>123 Middle Earth</td>\n      <td>None</td>\n      <td>None</td>\n    </tr>\n    <tr>\n      <th>9</th>\n      <td>1010</td>\n      <td>Peter</td>\n      <td>Parker</td>\n      <td>123-545-54</td>\n      <td>25th Main Street, New York</td>\n      <td>Y</td>\n      <td>N</td>\n      <td>25th Main Street</td>\n      <td>New York</td>\n      <td>None</td>\n    </tr>\n    <tr>\n      <th>10</th>\n      <td>1011</td>\n      <td>Samwise</td>\n      <td>Gamgee</td>\n      <td>nan--</td>\n      <td>612 Shire Lane, Shire</td>\n      <td>Y</td>\n      <td>N</td>\n      <td>612 Shire Lane</td>\n      <td>Shire</td>\n      <td>None</td>\n    </tr>\n    <tr>\n      <th>11</th>\n      <td>1012</td>\n      <td>Harry</td>\n      <td>Potter</td>\n      <td>706-695-0392</td>\n      <td>2394 Hogwarts Avenue</td>\n      <td>Y</td>\n      <td>NaN</td>\n      <td>2394 Hogwarts Avenue</td>\n      <td>None</td>\n      <td>None</td>\n    </tr>\n    <tr>\n      <th>12</th>\n      <td>1013</td>\n      <td>Don</td>\n      <td>Draper</td>\n      <td>123-543-23</td>\n      <td>2039 Main Street</td>\n      <td>Y</td>\n      <td>N</td>\n      <td>2039 Main Street</td>\n      <td>None</td>\n      <td>None</td>\n    </tr>\n    <tr>\n      <th>13</th>\n      <td>1014</td>\n      <td>Leslie</td>\n      <td>Knope</td>\n      <td>876-678-34</td>\n      <td>343 City Parkway</td>\n      <td>Y</td>\n      <td>N</td>\n      <td>343 City Parkway</td>\n      <td>None</td>\n      <td>None</td>\n    </tr>\n    <tr>\n      <th>14</th>\n      <td>1015</td>\n      <td>Toby</td>\n      <td>Flenderson</td>\n      <td>304-762-24</td>\n      <td>214 HR Avenue</td>\n      <td>N</td>\n      <td>N</td>\n      <td>214 HR Avenue</td>\n      <td>None</td>\n      <td>None</td>\n    </tr>\n    <tr>\n      <th>15</th>\n      <td>1016</td>\n      <td>Ron</td>\n      <td>Weasley</td>\n      <td>123-545-54</td>\n      <td>2395 Hogwarts Avenue</td>\n      <td>N</td>\n      <td>N</td>\n      <td>2395 Hogwarts Avenue</td>\n      <td>None</td>\n      <td>None</td>\n    </tr>\n    <tr>\n      <th>16</th>\n      <td>1017</td>\n      <td>Michael</td>\n      <td>Scott</td>\n      <td>123-643-97</td>\n      <td>121 Paper Avenue, Pennsylvania</td>\n      <td>Y</td>\n      <td>N</td>\n      <td>121 Paper Avenue</td>\n      <td>Pennsylvania</td>\n      <td>None</td>\n    </tr>\n    <tr>\n      <th>17</th>\n      <td>1018</td>\n      <td>Clark</td>\n      <td>Kent</td>\n      <td>706-695-0392</td>\n      <td>3498 Super Lane</td>\n      <td>Y</td>\n      <td>NaN</td>\n      <td>3498 Super Lane</td>\n      <td>None</td>\n      <td>None</td>\n    </tr>\n    <tr>\n      <th>18</th>\n      <td>1019</td>\n      <td>Creed</td>\n      <td>Braton</td>\n      <td>Na--</td>\n      <td>N/a</td>\n      <td>N/a</td>\n      <td>Y</td>\n      <td>N/a</td>\n      <td>None</td>\n      <td>None</td>\n    </tr>\n    <tr>\n      <th>19</th>\n      <td>1020</td>\n      <td>Anakin</td>\n      <td>Skywalker</td>\n      <td>876-678-34</td>\n      <td>910 Tatooine Road, Tatooine</td>\n      <td>Y</td>\n      <td>N</td>\n      <td>910 Tatooine Road</td>\n      <td>Tatooine</td>\n      <td>None</td>\n    </tr>\n    <tr>\n      <th>20</th>\n      <td>1020</td>\n      <td>Anakin</td>\n      <td>Skywalker</td>\n      <td>876-678-34</td>\n      <td>910 Tatooine Road, Tatooine</td>\n      <td>Y</td>\n      <td>N</td>\n      <td>910 Tatooine Road</td>\n      <td>Tatooine</td>\n      <td>None</td>\n    </tr>\n  </tbody>\n</table>\n</div>"
     },
     "execution_count": 57,
     "metadata": {},
     "output_type": "execute_result"
    }
   ],
   "source": [
    "df"
   ],
   "metadata": {
    "collapsed": false,
    "ExecuteTime": {
     "end_time": "2024-03-06T09:07:40.400448Z",
     "start_time": "2024-03-06T09:07:40.387501Z"
    }
   },
   "id": "4a167a57ef52a323",
   "execution_count": 57
  },
  {
   "cell_type": "code",
   "outputs": [],
   "source": [
    "# Clean N/a and NaN values\n",
    "\n",
    "df.fillna('', inplace=True)"
   ],
   "metadata": {
    "collapsed": false,
    "ExecuteTime": {
     "end_time": "2024-03-06T11:39:05.158131Z",
     "start_time": "2024-03-06T11:39:05.152225Z"
    }
   },
   "id": "96fc9b422e90058d",
   "execution_count": 65
  },
  {
   "cell_type": "code",
   "outputs": [],
   "source": [
    "df['Phone_Number'] = df['Phone_Number'].str.replace('nan--', '')"
   ],
   "metadata": {
    "collapsed": false,
    "ExecuteTime": {
     "end_time": "2024-03-06T11:42:33.549867Z",
     "start_time": "2024-03-06T11:42:33.543483Z"
    }
   },
   "id": "d82e87516b80662c",
   "execution_count": 69
  },
  {
   "cell_type": "code",
   "outputs": [],
   "source": [
    "df['Phone_Number'] = df['Phone_Number'].str.replace('Na--', '')"
   ],
   "metadata": {
    "collapsed": false,
    "ExecuteTime": {
     "end_time": "2024-03-06T11:43:39.387834Z",
     "start_time": "2024-03-06T11:43:39.381620Z"
    }
   },
   "id": "890ddba53115db2b",
   "execution_count": 73
  },
  {
   "cell_type": "code",
   "outputs": [],
   "source": [
    "# Filtering rows of data\n",
    "# First to the column of do not contact\n",
    "\n",
    "for x in df.index:\n",
    "    if df.loc[x, 'Do_Not_Contact'] == 'Y':\n",
    "        df.drop(index=x, inplace=True)\n",
    "        \n",
    "    \n",
    "    \n",
    "    "
   ],
   "metadata": {
    "collapsed": false
   },
   "id": "fa8a8c0db10e64b4"
  }
 ],
 "metadata": {
  "kernelspec": {
   "display_name": "Python 3",
   "language": "python",
   "name": "python3"
  },
  "language_info": {
   "codemirror_mode": {
    "name": "ipython",
    "version": 2
   },
   "file_extension": ".py",
   "mimetype": "text/x-python",
   "name": "python",
   "nbconvert_exporter": "python",
   "pygments_lexer": "ipython2",
   "version": "2.7.6"
  }
 },
 "nbformat": 4,
 "nbformat_minor": 5
}
